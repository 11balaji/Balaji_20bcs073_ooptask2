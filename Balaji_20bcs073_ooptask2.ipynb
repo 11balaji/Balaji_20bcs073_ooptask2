{
  "nbformat": 4,
  "nbformat_minor": 0,
  "metadata": {
    "colab": {
      "name": "Balaji_20bcs073_ooptask2",
      "provenance": [],
      "authorship_tag": "ABX9TyMazNPv6ZtU28BHrebbTLDf",
      "include_colab_link": true
    },
    "kernelspec": {
      "name": "python3",
      "display_name": "Python 3"
    },
    "language_info": {
      "name": "python"
    }
  },
  "cells": [
    {
      "cell_type": "markdown",
      "metadata": {
        "id": "view-in-github",
        "colab_type": "text"
      },
      "source": [
        "<a href=\"https://colab.research.google.com/github/11balaji/Balaji_20bcs073_ooptask2/blob/main/Balaji_20bcs073_ooptask2.ipynb\" target=\"_parent\"><img src=\"https://colab.research.google.com/assets/colab-badge.svg\" alt=\"Open In Colab\"/></a>"
      ]
    },
    {
      "cell_type": "code",
      "metadata": {
        "colab": {
          "base_uri": "https://localhost:8080/"
        },
        "id": "6fq5Chb5N2P3",
        "outputId": "892caac5-1ca2-4ef9-88ed-8a623e4b57e7"
      },
      "source": [
        "import math\n",
        "class Circle:\n",
        "    def __init__(self, radius):\n",
        "        self.radius = radius\n",
        "\n",
        "    def perimeter(self):\n",
        "        return (2 * math.pi * self.radius)\n",
        "\n",
        "    def area(self):\n",
        "        return (math.pi * (self.radius ** 2))\n",
        "\n",
        "c1 = Circle(7)\n",
        "print(c1.perimeter())\n",
        "print(c1.area())"
      ],
      "execution_count": null,
      "outputs": [
        {
          "output_type": "stream",
          "name": "stdout",
          "text": [
            "43.982297150257104\n",
            "153.93804002589985\n"
          ]
        }
      ]
    },
    {
      "cell_type": "code",
      "metadata": {
        "colab": {
          "base_uri": "https://localhost:8080/"
        },
        "id": "bipxWY9-OU22",
        "outputId": "26aab656-183c-414c-a772-fab17e57edd0"
      },
      "source": [
        "class TeachingFaculty:\n",
        "    # def __init__(self, name, emp_ID, branch, salary):\n",
        "    \n",
        "\n",
        "    def setData(self):\n",
        "        self.name = input(\"Enter the employee name : \")       #     self.name = name\n",
        "        self.emp_ID = int(input(\"Enter the employee ID : \"))  #     self.emp_ID = emp_ID\n",
        "        self.branch = input(\"Enter the branch name : \")       #     self.branch = branch\n",
        "        self.salary = int(input(\"Enter the salary : \"))       #     self.salary = salary\n",
        "\n",
        "    def getData(self):\n",
        "        print(f\"Name : {self.name} \\nEmployee ID : {self.emp_ID} \\nBranch : {self.branch} \\nSalary : {self.salary}\\n\")\n",
        "        return self.name, self.emp_ID, self.branch, self.salary\n",
        "\n",
        "# t1 = TeachingFaculty()\n",
        "listTF = []\n",
        "for i in range(1, 6):\n",
        "    temp = TeachingFaculty()\n",
        "    print(f\"\\nEnter the data for {i}th employee : \")\n",
        "    temp.setData()\n",
        "    listTF.append(temp)\n",
        "  \n",
        "\n",
        "for i in range(0, 5):\n",
        "    print(f\"\\nData of {i+1}th employee : \")\n",
        "    listTF[i].getData()"
      ],
      "execution_count": 6,
      "outputs": [
        {
          "output_type": "stream",
          "name": "stdout",
          "text": [
            "\n",
            "Enter the data for 1th employee : \n",
            "Enter the employee name : ravi\n",
            "Enter the employee ID : 554\n",
            "Enter the branch name : cse\n",
            "Enter the salary : 59000\n",
            "\n",
            "Enter the data for 2th employee : \n",
            "Enter the employee name : raju\n",
            "Enter the employee ID : 555\n",
            "Enter the branch name : ece\n",
            "Enter the salary : 60000\n",
            "\n",
            "Enter the data for 3th employee : \n",
            "Enter the employee name : krish\n",
            "Enter the employee ID : 567\n",
            "Enter the branch name : dsai\n",
            "Enter the salary : 78000\n",
            "\n",
            "Enter the data for 4th employee : \n",
            "Enter the employee name : charan\n",
            "Enter the employee ID : 532\n",
            "Enter the branch name : mech\n",
            "Enter the salary : 45000\n",
            "\n",
            "Enter the data for 5th employee : \n",
            "Enter the employee name : balu\n",
            "Enter the employee ID : 568\n",
            "Enter the branch name : IT\n",
            "Enter the salary : 79000\n",
            "\n",
            "Data of 1th employee : \n",
            "Name : ravi \n",
            "Employee ID : 554 \n",
            "Branch : cse \n",
            "Salary : 59000\n",
            "\n",
            "\n",
            "Data of 2th employee : \n",
            "Name : raju \n",
            "Employee ID : 555 \n",
            "Branch : ece \n",
            "Salary : 60000\n",
            "\n",
            "\n",
            "Data of 3th employee : \n",
            "Name : krish \n",
            "Employee ID : 567 \n",
            "Branch : dsai \n",
            "Salary : 78000\n",
            "\n",
            "\n",
            "Data of 4th employee : \n",
            "Name : charan \n",
            "Employee ID : 532 \n",
            "Branch : mech \n",
            "Salary : 45000\n",
            "\n",
            "\n",
            "Data of 5th employee : \n",
            "Name : balu \n",
            "Employee ID : 568 \n",
            "Branch : IT \n",
            "Salary : 79000\n",
            "\n"
          ]
        }
      ]
    },
    {
      "cell_type": "code",
      "metadata": {
        "colab": {
          "base_uri": "https://localhost:8080/"
        },
        "id": "OlLu6VilNQ3s",
        "outputId": "6e4c47a7-411c-47ba-b339-29c6deea9173"
      },
      "source": [
        "class Account:\n",
        "    def __init__(self, accNo, accHolder, amount):\n",
        "        self.accountNumber = accNo\n",
        "        self.accountHolder = accHolder\n",
        "        self.accountAmount = amount\n",
        "\n",
        "    def deposit(self):\n",
        "        depAmount = int(input(\"Enter the deposit amount : \"))\n",
        "        self.accountAmount += depAmount\n",
        "        print(f\"Amount deposited : {depAmount} \\nNew Balance : {self.accountAmount}\")\n",
        "\n",
        "    def withdraw(self):\n",
        "        withAmount = int(input(\"Enter the withdrawal amount : \"))\n",
        "        if withAmount > self.accountAmount:\n",
        "            print(\"withdrawal cannot be more than savings.\")\n",
        "            return -1\n",
        "        self.accountAmount -= withAmount\n",
        "        print(f\"Amount withdraw : {withAmount} \\nNew Balance = {self.accountAmount}\")\n",
        "        return withAmount\n",
        "\n",
        "    def checkBalance(self):\n",
        "        print(f\"Balance : {self.accountAmount}\")\n",
        "        return self.accountAmount\n",
        "\n",
        "    def getDetails(self):\n",
        "        print(f\"\\nAccount Number : {self.accountNumber} \\nAccount Holder : {self.accountHolder} \\nBalance : {self.accountAmount}\")\n",
        "        return self.accountNumber, self.accountHolder, self.accountAmount\n",
        "\n",
        "a1 = Account(5434348790, \"ravi\", 72300)\n",
        "a1.deposit()\n",
        "\n",
        "\n",
        "withdraw = a1.withdraw()\n",
        "print(withdraw)\n",
        "balance = a1.checkBalance()\n",
        "print(balance)\n",
        "details = a1.getDetails()\n",
        "print(details)"
      ],
      "execution_count": 12,
      "outputs": [
        {
          "output_type": "stream",
          "name": "stdout",
          "text": [
            "Enter the deposit amount : 7500\n",
            "Amount deposited : 7500 \n",
            "New Balance : 79800\n",
            "Enter the withdrawal amount : 46700\n",
            "Amount withdraw : 46700 \n",
            "New Balance = 33100\n",
            "46700\n",
            "Balance : 33100\n",
            "33100\n",
            "\n",
            "Account Number : 5434348790 \n",
            "Account Holder : ravi \n",
            "Balance : 33100\n",
            "(5434348790, 'ravi', 33100)\n"
          ]
        }
      ]
    },
    {
      "cell_type": "code",
      "metadata": {
        "colab": {
          "base_uri": "https://localhost:8080/"
        },
        "id": "b_R5ai6pR7ou",
        "outputId": "f9a69564-4e86-4ecb-9509-ebc4ee430f95"
      },
      "source": [
        "class Records:\n",
        "\n",
        "    def setData(self):\n",
        "        self.name = input(\"Enter student name : \")\n",
        "        self.ID = int(input(\"Enter student USN : \"))\n",
        "        self.marks = []\n",
        "        for i in range(1, 4):\n",
        "            marks = input(f\"Enter marks in subject {i} : \")\n",
        "            self.marks.append(marks)\n",
        "\n",
        "    def getData(self):\n",
        "        print(f\"Name : {self.name}\")\n",
        "        print(f\"USN : {self.ID}\") \n",
        "        print(f\"Marks : \\nSubject 1 : {self.marks[0]} \\nSubject 2 : {self.marks[1]} \\nSubject 3 : {self.marks[2]}\")\n",
        "        return self.name, self.ID, self.marks\n",
        "\n",
        "s1 = Records()\n",
        "s1.setData()\n",
        "list_1 = s1.getData()\n",
        "print(list_1)"
      ],
      "execution_count": 16,
      "outputs": [
        {
          "output_type": "stream",
          "name": "stdout",
          "text": [
            "Enter student name : charan\n",
            "Enter student USN : 56789\n",
            "Enter marks in subject 1 : 96\n",
            "Enter marks in subject 2 : 88\n",
            "Enter marks in subject 3 : 79\n",
            "Name : charan\n",
            "USN : 56789\n",
            "Marks : \n",
            "Subject 1 : 96 \n",
            "Subject 2 : 88 \n",
            "Subject 3 : 79\n",
            "('charan', 56789, ['96', '88', '79'])\n"
          ]
        }
      ]
    },
    {
      "cell_type": "code",
      "metadata": {
        "colab": {
          "base_uri": "https://localhost:8080/"
        },
        "id": "W2RrAP_8Uf7r",
        "outputId": "bd0f29f7-8733-4359-c300-a9a60023b718"
      },
      "source": [
        "class Patient:\n",
        "    def setData(self):\n",
        "        self.name = input(\"Enter  patient name : \")\n",
        "        self.dateOfAdmission = input(\"Enter admission date : \")\n",
        "        self.symptoms = input(\"Enter symptoms  : \").split(\" \")\n",
        "        self.oxygenLevel = int(input(\"Enter patient oxygen level : \"))\n",
        "        self.dateOfDischarge = input(\"Enter  discharge date : \")\n",
        "\n",
        "    def getData(self):\n",
        "        print(f\"\\nName : {self.name} \\nDate of Admission : {self.dateOfAdmission} \\nSymptoms : {self.symptoms} \\nOxygen Level : {self.oxygenLevel} \\nDate of Discharge : {self.dateOfDischarge}\\n\")\n",
        "        return self.name, self.dateOfAdmission, self.symptoms, self.oxygenLevel, self.dateOfDischarge\n",
        "\n",
        "    def checkSeverity(self):\n",
        "        if self.oxygenLevel < 90:\n",
        "            print(\"Patient's condition is critical.\")\n",
        "        else:\n",
        "            print(\"Patient is  fine.\")\n",
        "\n",
        "\n",
        "class Hospital:    \n",
        "    def __init__(self):\n",
        "        self.listOfPatients = []\n",
        "        self.oxygenSupport = []\n",
        "\n",
        "    def addPatient(self):\n",
        "        temp = Patient()\n",
        "        temp.setData()\n",
        "        if temp.oxygenLevel < 90:\n",
        "            self.oxygenSupport.append(1)\n",
        "        else:\n",
        "            self.oxygenSupport.append(0)\n",
        "        self.listOfPatients.append(temp)\n",
        "    def checkSeverity(self):\n",
        "        name = input(\"Enter patient name : \")\n",
        "        for i in range(0, len(self.listOfPatients)):\n",
        "            if name == self.listOfPatients[i].name:\n",
        "                self.listOfPatients[i].checkSeverity()\n",
        "                return 1\n",
        "        print(\"Patient not found\")\n",
        "\n",
        "\n",
        "    def getOxygenSupport(self):\n",
        "        return self.oxygenSupport.count(1)\n",
        "\n",
        "    def generalWard(self):\n",
        "        return self.oxygenSupport.count(0)\n",
        "\n",
        "    def totalPatients(self):\n",
        "        return len(self.listOfPatients)\n",
        "\n",
        "\n",
        "H1 = Hospital()\n",
        "\n",
        "for i in range(0, 3):\n",
        "    H1.addPatient()\n",
        "    H1.listOfPatients[i].getData()\n",
        "    H1.listOfPatients[i].checkSeverity()\n",
        "\n",
        "print(H1.getOxygenSupport())\n",
        "print(H1.generalWard())\n",
        "print(H1.totalPatients())\n",
        "H1.checkSeverity()"
      ],
      "execution_count": 23,
      "outputs": [
        {
          "output_type": "stream",
          "name": "stdout",
          "text": [
            "Enter  patient name : ravi\n",
            "Enter admission date : 05-09-21\n",
            "Enter symptoms  : fever\n",
            "Enter patient oxygen level : 85\n",
            "Enter  discharge date : 21-09-21\n",
            "\n",
            "Name : ravi \n",
            "Date of Admission : 05-09-21 \n",
            "Symptoms : ['fever'] \n",
            "Oxygen Level : 85 \n",
            "Date of Discharge : 21-09-21\n",
            "\n",
            "Patient's condition is critical.\n",
            "Enter  patient name : balu\n",
            "Enter admission date : 06-09-21\n",
            "Enter symptoms  : cold\n",
            "Enter patient oxygen level : 91\n",
            "Enter  discharge date : 22-09-21\n",
            "\n",
            "Name : balu \n",
            "Date of Admission : 06-09-21 \n",
            "Symptoms : ['cold'] \n",
            "Oxygen Level : 91 \n",
            "Date of Discharge : 22-09-21\n",
            "\n",
            "Patient is  fine.\n",
            "Enter  patient name : raju\n",
            "Enter admission date : 07-09-21\n",
            "Enter symptoms  : cold,fever\n",
            "Enter patient oxygen level : 72\n",
            "Enter  discharge date : 23-09-21\n",
            "\n",
            "Name : raju \n",
            "Date of Admission : 07-09-21 \n",
            "Symptoms : ['cold,fever'] \n",
            "Oxygen Level : 72 \n",
            "Date of Discharge : 23-09-21\n",
            "\n",
            "Patient's condition is critical.\n",
            "2\n",
            "1\n",
            "3\n",
            "Enter patient name : charan\n",
            "Patient not found\n"
          ]
        }
      ]
    },
    {
      "cell_type": "code",
      "metadata": {
        "colab": {
          "base_uri": "https://localhost:8080/"
        },
        "id": "m3tbLSrnZEj7",
        "outputId": "8c13f064-2f5b-419a-fbee-361039e13691"
      },
      "source": [
        "class Time:\n",
        "    def setToDefault(self):\n",
        "        self.hours = 0\n",
        "        self.minutes = 0\n",
        "        self.seconds = 0\n",
        "\n",
        "    def setToVal(self, hours, minutes, seconds):\n",
        "        if seconds > 59:\n",
        "            tempMinutes = seconds // 60\n",
        "            seconds = seconds % 60\n",
        "            self.seconds = seconds\n",
        "            self.minutes = tempMinutes + minutes\n",
        "        else:\n",
        "            self.seconds = seconds\n",
        "            self.minutes = minutes\n",
        "\n",
        "        if self.minutes > 59:\n",
        "            tempHours = self.minutes // 60\n",
        "            self.minutes = self.minutes % 60\n",
        "            self.hours = tempHours + hours\n",
        "        else:\n",
        "            self.minutes = minutes\n",
        "            self.hours = hours\n",
        "\n",
        "    def displayTime(self):\n",
        "        print(f\"Time : {self.hours}::{self.minutes}::{self.seconds}\")\n",
        "\n",
        "\n",
        "T1 = Time()\n",
        "T1.setToDefault()\n",
        "T1.displayTime()\n",
        "T1.setToVal(17, 45, 59)\n",
        "T1.displayTime()\n",
        "T1.setToVal(18, 90, 220)\n",
        "T1.displayTime()\n",
        "T1.setToVal(14, 140, 320)\n",
        "T1.displayTime()"
      ],
      "execution_count": 22,
      "outputs": [
        {
          "output_type": "stream",
          "name": "stdout",
          "text": [
            "Time : 0::0::0\n",
            "Time : 17::45::59\n",
            "Time : 19::33::40\n",
            "Time : 16::25::20\n"
          ]
        }
      ]
    },
    {
      "cell_type": "code",
      "metadata": {
        "colab": {
          "base_uri": "https://localhost:8080/"
        },
        "id": "wFMDziPuaJJF",
        "outputId": "3a56627c-fd1c-45dd-9b2c-7a7d20f6a51a"
      },
      "source": [
        "class Student:\n",
        "    def __init__(self, name, age, rollNo):\n",
        "        self.name = name\n",
        "        self.age = age\n",
        "        self.rollNo = rollNo\n",
        "\n",
        "    @classmethod\n",
        "    def compare(cls, std1, std2):\n",
        "        if std1.age == std2.age:\n",
        "            print(\"student ages are equal.\")\n",
        "        else:\n",
        "            print(\"student ages are not equal.\")\n",
        "\n",
        "S1 = Student(\"rahul\", 34, 35)\n",
        "S2 = Student(\"rohit\", 34, 45)\n",
        "\n",
        "Student.compare(S1, S2)"
      ],
      "execution_count": 27,
      "outputs": [
        {
          "output_type": "stream",
          "name": "stdout",
          "text": [
            "student ages are equal.\n"
          ]
        }
      ]
    },
    {
      "cell_type": "code",
      "metadata": {
        "colab": {
          "base_uri": "https://localhost:8080/"
        },
        "id": "dttp7Uc6cy1A",
        "outputId": "dac33e06-cd79-449d-fe48-69863d45eb3d"
      },
      "source": [
        "class Student:\n",
        "    sem = 3\n",
        "    institute = \"IIIT Dharwad\"\n",
        "    \n",
        "    def setData(self):\n",
        "        self.name = input(\"Enter student name : \")\n",
        "        self.id = int(input(\"Enter student usn : \"))\n",
        "\n",
        "    def getInstanceData(self):\n",
        "        print(f\"Name : {self.name}\")\n",
        "        print(f\"usn = {self.id}\")\n",
        "\n",
        "    @classmethod\n",
        "    def getClassData(cls):\n",
        "        print(f\"Semester : {cls.sem}\")\n",
        "        print(f\"Institute : {cls.institute}\")\n",
        "\n",
        "    @staticmethod\n",
        "    def getExplanation():\n",
        "        print(\"Instance variables (name, id) are printed using Instance Method and Class variables (sem, institute) are printed using ClassMethod\")\n",
        "\n",
        "\n",
        "s1 = Student()\n",
        "s1.setData()\n",
        "s1.getInstanceData()\n",
        "Student.getClassData()\n",
        "Student.getExplanation()"
      ],
      "execution_count": 29,
      "outputs": [
        {
          "output_type": "stream",
          "name": "stdout",
          "text": [
            "Enter student name : charan\n",
            "Enter student usn : 2345\n",
            "Name : charan\n",
            "usn = 2345\n",
            "Semester : 3\n",
            "Institute : IIIT Dharwad\n",
            "Instance variables (name, id) are printed using Instance Method and Class variables (sem, institute) are printed using ClassMethod\n"
          ]
        }
      ]
    },
    {
      "cell_type": "code",
      "metadata": {
        "colab": {
          "base_uri": "https://localhost:8080/"
        },
        "id": "6bIdn2v3fwIz",
        "outputId": "32a9ec80-7798-4907-9d7a-011fd1289689"
      },
      "source": [
        "class Student:\n",
        "    def set_Data(self):\n",
        "        self.Name = input(\"Enter name of student : \")\n",
        "        self.ID = int(input(\"Enter Roll Number : \"))\n",
        "        self.sem = int(input(\"Enter semester : \"))\n",
        "        self.nLaptop = int(input(\"Enter the number of laptops : \"))\n",
        "        self.list_Laptop = []\n",
        "        for i in range (0, self.nLaptop):\n",
        "            tempObj = self.Laptop()\n",
        "            self.list_Laptop.append(tempObj)\n",
        "\n",
        "    class Laptop:\n",
        "        def __init__(self):\n",
        "            self.cpu = input(\"Enter the name of the CPU : \")\n",
        "            self.ram = input(\"Enter size of RAM  : \")\n",
        "            self.hard_Disk = input(\"Enter size of hard disk : \")\n",
        "            self.display = input(\"Enter the display resolution : \")\n",
        "        \n",
        "        def get_Data(self):\n",
        "            print(f\"CPU : {self.cpu}\") \n",
        "            print(f\"RAM : {self.ram}GB\")\n",
        "            print(f\"Hard Disk : {self.hard_Disk} GB SSD\")\n",
        "            print(f\"Display Resolution : {self.display} cm\")\n",
        "\n",
        "    def get_Data(self):\n",
        "        print(f\"\\nName : {self.Name}\") \n",
        "        print(f\"USN : {self.ID}\")\n",
        "        print(f\"Semester : {self.sem}\")\n",
        "        print(f\"Number of Laptops : {self.nLaptop}\")\n",
        "        for i in range(0, self.nLaptop):\n",
        "            print(f\"\\nDetails of laptop {i+1}  : \")\n",
        "            self.list_Laptop[i].get_Data()\n",
        "\n",
        "S1 = Student()\n",
        "S1.set_Data()\n",
        "S1.get_Data()"
      ],
      "execution_count": 36,
      "outputs": [
        {
          "output_type": "stream",
          "name": "stdout",
          "text": [
            "Enter name of student : charan\n",
            "Enter Roll Number : 76\n",
            "Enter semester : 2\n",
            "Enter the number of laptops : 1\n",
            "Enter the name of the CPU : intel\n",
            "Enter size of RAM  : 8\n",
            "Enter size of hard disk : 512\n",
            "Enter the display resolution : 35\n",
            "\n",
            "Name : charan\n",
            "USN : 76\n",
            "Semester : 2\n",
            "Number of Laptops : 1\n",
            "\n",
            "Details of laptop 1  : \n",
            "CPU : intel\n",
            "RAM : 8GB\n",
            "Hard Disk : 512 GB SSD\n",
            "Display Resolution : 35 cm\n"
          ]
        }
      ]
    }
  ]
}